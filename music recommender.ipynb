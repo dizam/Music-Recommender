{
 "cells": [
  {
   "cell_type": "code",
   "execution_count": 257,
   "metadata": {},
   "outputs": [
    {
     "data": {
      "text/html": [
       "<div>\n",
       "<style scoped>\n",
       "    .dataframe tbody tr th:only-of-type {\n",
       "        vertical-align: middle;\n",
       "    }\n",
       "\n",
       "    .dataframe tbody tr th {\n",
       "        vertical-align: top;\n",
       "    }\n",
       "\n",
       "    .dataframe thead th {\n",
       "        text-align: right;\n",
       "    }\n",
       "</style>\n",
       "<table border=\"1\" class=\"dataframe\">\n",
       "  <thead>\n",
       "    <tr style=\"text-align: right;\">\n",
       "      <th></th>\n",
       "      <th>artist</th>\n",
       "      <th>song</th>\n",
       "      <th>link</th>\n",
       "      <th>text</th>\n",
       "    </tr>\n",
       "  </thead>\n",
       "  <tbody>\n",
       "    <tr>\n",
       "      <th>0</th>\n",
       "      <td>ABBA</td>\n",
       "      <td>Ahe's My Kind Of Girl</td>\n",
       "      <td>/a/abba/ahes+my+kind+of+girl_20598417.html</td>\n",
       "      <td>Look at her face, it's a wonderful face  \\nAnd...</td>\n",
       "    </tr>\n",
       "    <tr>\n",
       "      <th>1</th>\n",
       "      <td>ABBA</td>\n",
       "      <td>Andante, Andante</td>\n",
       "      <td>/a/abba/andante+andante_20002708.html</td>\n",
       "      <td>Take it easy with me, please  \\nTouch me gentl...</td>\n",
       "    </tr>\n",
       "    <tr>\n",
       "      <th>2</th>\n",
       "      <td>ABBA</td>\n",
       "      <td>As Good As New</td>\n",
       "      <td>/a/abba/as+good+as+new_20003033.html</td>\n",
       "      <td>I'll never know why I had to go  \\nWhy I had t...</td>\n",
       "    </tr>\n",
       "    <tr>\n",
       "      <th>3</th>\n",
       "      <td>ABBA</td>\n",
       "      <td>Bang</td>\n",
       "      <td>/a/abba/bang_20598415.html</td>\n",
       "      <td>Making somebody happy is a question of give an...</td>\n",
       "    </tr>\n",
       "    <tr>\n",
       "      <th>4</th>\n",
       "      <td>ABBA</td>\n",
       "      <td>Bang-A-Boomerang</td>\n",
       "      <td>/a/abba/bang+a+boomerang_20002668.html</td>\n",
       "      <td>Making somebody happy is a question of give an...</td>\n",
       "    </tr>\n",
       "  </tbody>\n",
       "</table>\n",
       "</div>"
      ],
      "text/plain": [
       "  artist                   song                                        link  \\\n",
       "0   ABBA  Ahe's My Kind Of Girl  /a/abba/ahes+my+kind+of+girl_20598417.html   \n",
       "1   ABBA       Andante, Andante       /a/abba/andante+andante_20002708.html   \n",
       "2   ABBA         As Good As New        /a/abba/as+good+as+new_20003033.html   \n",
       "3   ABBA                   Bang                  /a/abba/bang_20598415.html   \n",
       "4   ABBA       Bang-A-Boomerang      /a/abba/bang+a+boomerang_20002668.html   \n",
       "\n",
       "                                                text  \n",
       "0  Look at her face, it's a wonderful face  \\nAnd...  \n",
       "1  Take it easy with me, please  \\nTouch me gentl...  \n",
       "2  I'll never know why I had to go  \\nWhy I had t...  \n",
       "3  Making somebody happy is a question of give an...  \n",
       "4  Making somebody happy is a question of give an...  "
      ]
     },
     "execution_count": 257,
     "metadata": {},
     "output_type": "execute_result"
    }
   ],
   "source": [
    "from sklearn.feature_extraction.text import TfidfVectorizer\n",
    "from sklearn.metrics.pairwise import cosine_similarity\n",
    "import numpy as np\n",
    "import pandas as pd\n",
    "\n",
    "mySongs = pd.read_csv('./songdata.csv')\n",
    "mySongs.head()\n"
   ]
  },
  {
   "cell_type": "code",
   "execution_count": 258,
   "metadata": {},
   "outputs": [
    {
     "data": {
      "text/plain": [
       "(57650, 4)"
      ]
     },
     "execution_count": 258,
     "metadata": {},
     "output_type": "execute_result"
    }
   ],
   "source": [
    "mySongs.shape"
   ]
  },
  {
   "cell_type": "markdown",
   "metadata": {},
   "source": [
    "The dataset is big, so for the sake of speed, I will only be using 1000 rows. Also the link is not an important feature."
   ]
  },
  {
   "cell_type": "code",
   "execution_count": 259,
   "metadata": {},
   "outputs": [
    {
     "data": {
      "text/plain": [
       "(1000, 3)"
      ]
     },
     "execution_count": 259,
     "metadata": {},
     "output_type": "execute_result"
    }
   ],
   "source": [
    "mySongs.head()\n",
    "trimSongs = mySongs.sample(n=1000).drop('link', axis=1).reset_index(drop=True)\n",
    "trimSongs.shape"
   ]
  },
  {
   "cell_type": "markdown",
   "metadata": {},
   "source": [
    "\\n linebreaks need to be trimmed from the text column"
   ]
  },
  {
   "cell_type": "code",
   "execution_count": 260,
   "metadata": {},
   "outputs": [
    {
     "data": {
      "text/html": [
       "<div>\n",
       "<style scoped>\n",
       "    .dataframe tbody tr th:only-of-type {\n",
       "        vertical-align: middle;\n",
       "    }\n",
       "\n",
       "    .dataframe tbody tr th {\n",
       "        vertical-align: top;\n",
       "    }\n",
       "\n",
       "    .dataframe thead th {\n",
       "        text-align: right;\n",
       "    }\n",
       "</style>\n",
       "<table border=\"1\" class=\"dataframe\">\n",
       "  <thead>\n",
       "    <tr style=\"text-align: right;\">\n",
       "      <th></th>\n",
       "      <th>artist</th>\n",
       "      <th>song</th>\n",
       "      <th>text</th>\n",
       "    </tr>\n",
       "  </thead>\n",
       "  <tbody>\n",
       "    <tr>\n",
       "      <th>0</th>\n",
       "      <td>Bread</td>\n",
       "      <td>Blue Satin Pillow</td>\n",
       "      <td>I'd like to take you home girl, and make you m...</td>\n",
       "    </tr>\n",
       "    <tr>\n",
       "      <th>1</th>\n",
       "      <td>R. Kelly</td>\n",
       "      <td>Can You Feel It</td>\n",
       "      <td>Uhn clap your hands everybody  Can you feel it...</td>\n",
       "    </tr>\n",
       "    <tr>\n",
       "      <th>2</th>\n",
       "      <td>Kirsty Maccoll</td>\n",
       "      <td>Please Help Me, I'm Falling</td>\n",
       "      <td>Please help me, I'm falling in love with you  ...</td>\n",
       "    </tr>\n",
       "    <tr>\n",
       "      <th>3</th>\n",
       "      <td>System Of A Down</td>\n",
       "      <td>Snowblind</td>\n",
       "      <td>What you get and what you see  Things that don...</td>\n",
       "    </tr>\n",
       "    <tr>\n",
       "      <th>4</th>\n",
       "      <td>John Prine</td>\n",
       "      <td>You Got Gold</td>\n",
       "      <td>Is there ever enough space between us  To keep...</td>\n",
       "    </tr>\n",
       "  </tbody>\n",
       "</table>\n",
       "</div>"
      ],
      "text/plain": [
       "             artist                         song  \\\n",
       "0             Bread            Blue Satin Pillow   \n",
       "1          R. Kelly              Can You Feel It   \n",
       "2    Kirsty Maccoll  Please Help Me, I'm Falling   \n",
       "3  System Of A Down                    Snowblind   \n",
       "4        John Prine                 You Got Gold   \n",
       "\n",
       "                                                text  \n",
       "0  I'd like to take you home girl, and make you m...  \n",
       "1  Uhn clap your hands everybody  Can you feel it...  \n",
       "2  Please help me, I'm falling in love with you  ...  \n",
       "3  What you get and what you see  Things that don...  \n",
       "4  Is there ever enough space between us  To keep...  "
      ]
     },
     "execution_count": 260,
     "metadata": {},
     "output_type": "execute_result"
    }
   ],
   "source": [
    "trimSongs['text'] = trimSongs['text'].replace(r'\\n', '', regex=True)\n",
    "trimSongs.head()"
   ]
  },
  {
   "cell_type": "code",
   "execution_count": 261,
   "metadata": {},
   "outputs": [],
   "source": [
    "tfidf = TfidfVectorizer(analyzer='word', stop_words='english')\n",
    "lyrics_matrix = tfidf.fit_transform(trimSongs['text'])\n",
    "cosine_similarities = cosine_similarity(lyrics_matrix) "
   ]
  },
  {
   "cell_type": "code",
   "execution_count": 262,
   "metadata": {},
   "outputs": [
    {
     "name": "stdout",
     "output_type": "stream",
     "text": [
      "[[0.29679028700198706, 'Black Girl', 'Lenny Kravitz'], [0.273577244738358, \"I'll Never Find Someone Like You\", 'Backstreet Boys'], [0.25550900072717364, 'Body Shots', 'Chris Brown'], [0.2439313094300042, 'One Less Lonely Girl', 'Justin Bieber'], [0.21788297636155862, \"It's Alright\", 'Kiss'], [0.21541233554295205, \"Ain't No Way (You Won't Love Me)\", 'Chris Brown'], [0.19918514744510543, 'What Kind Of Girl', 'Air Supply'], [0.19588278943791365, 'He Is Your Brother', 'ABBA'], [0.18256412578797437, 'Satisfy You', 'Puff Daddy'], [0.17779251638187296, 'Bad Time', 'Counting Crows'], [0.1683302174913516, 'The Girl Is On To You', 'Bette Midler'], [0.16480775927264063, \"I'll Never Break Your Heart\", 'Backstreet Boys'], [0.1626953269483792, 'Make Love (Royalty)', 'Chris Brown'], [0.16079440419275914, 'Almost Like Love', 'Yes'], [0.15942366854515977, 'Skateaway', 'Dire Straits'], [0.1576310623103913, \"Feelin' You In Stereo\", 'R. Kelly'], [0.155038180227417, 'Love Is What We Make It', 'Kenny Rogers'], [0.14807981396104555, 'Girl From The Canyon', 'Johnny Cash'], [0.1432107747223401, 'Songs From An American Movie Pt.2', 'Everclear'], [0.14297135796718177, 'Lunacy Fringe', 'Used'], [0.14092220591223467, \"Ladies' Night\", 'R. Kelly'], [0.13688224521078576, 'Alien', 'Britney Spears'], [0.1300275943342988, 'No Lights', 'Overkill'], [0.12760391267255622, 'Good Girls', 'John Mellencamp'], [0.12484533763901658, \"Don't Think So\", 'Quiet Riot'], [0.12459084557096507, 'This Time', 'Freestyle'], [0.12125833353990675, 'Mother', 'Tori Amos'], [0.12013781748425739, \"If You Don't Like It\", 'Cinderella'], [0.11848592221965193, 'Fade Away', 'Bruce Springsteen'], [0.11592956204217822, 'Closing Time', 'Green Day'], [0.11437916135561403, 'Sweet Little Thing', 'Ufo'], [0.1140919098876322, 'Looking For The Good Times', 'The Monkees'], [0.11292560592133055, 'Little Honda', 'Yo La Tengo'], [0.1124083282611256, 'Send My Love (To Your New Lover)', 'Adele'], [0.11210507509732417, \"I Can't Go For That\", 'Glee'], [0.10956842337373836, 'Beautiful Girl', 'George Harrison'], [0.10955526891023178, 'The Night I Fell In Love', 'Luther Vandross'], [0.108596200703358, 'Sugar', 'Flo-Rida'], [0.10790498636718969, 'The Chase Is Better Than The Catch', 'Metallica'], [0.10762519979903261, 'Come Together', 'Michael Jackson'], [0.10710961098269792, 'Can You Feel It', 'R. Kelly'], [0.10588952623703235, 'A Night Like This', 'Rod Stewart'], [0.10569412316832662, 'A Million Days', 'Prince'], [0.10499585574067488, 'What A Change', 'Bread'], [0.10467234419245568, 'one in a million', 'Ne-Yo'], [0.10460597905461909, 'Little People', 'The White Stripes'], [0.10432542513685389, 'Teresa', 'Eddie Cochran'], [0.10416113899887752, 'Loving You Again', 'Chris Rea'], [0.10361605987208163, 'Hole In My Soul', 'Aerosmith']]\n"
     ]
    }
   ],
   "source": [
    "from collections import defaultdict\n",
    "similarities = defaultdict(list)\n",
    "for i in range(len(cosine_similarities)):\n",
    "    similar_indices = cosine_similarities[i].argsort()[-50:][::-1] \n",
    "    songName = trimSongs['song'].iloc[i]\n",
    "    for j in range(1, len(similar_indices)):\n",
    "         myIndex = similar_indices[j]\n",
    "         mySims = cosine_similarities[i][myIndex]\n",
    "         mySimSong = trimSongs['song'][myIndex]\n",
    "         mySimArtist = trimSongs['artist'][myIndex]\n",
    "         similarities[songName].append([mySims, mySimSong, mySimArtist])\n",
    "print(similarities[trimSongs['song'].iloc[0]])"
   ]
  },
  {
   "cell_type": "code",
   "execution_count": 263,
   "metadata": {},
   "outputs": [
    {
     "name": "stdout",
     "output_type": "stream",
     "text": [
      "The song name for this song: Billy's Bones\n",
      "The 5 recommended songs for this song are: \n",
      "1: \n",
      "Similarity score: 0.09785781071548152, song name: Good Old Days, song artist: P!nk\n",
      "-------------------------------------\n",
      "2: \n",
      "Similarity score: 0.08982070613195875, song name: Thursday, song artist: The Weeknd\n",
      "-------------------------------------\n",
      "3: \n",
      "Similarity score: 0.08509083195996053, song name: A Boy Named Sue, song artist: Johnny Cash\n",
      "-------------------------------------\n",
      "4: \n",
      "Similarity score: 0.07843325206152275, song name: A Sight For Sore Eyes, song artist: Tom Waits\n",
      "-------------------------------------\n",
      "5: \n",
      "Similarity score: 0.07706483110874492, song name: Sunday, Monday Or Always, song artist: Bing Crosby\n",
      "-------------------------------------\n"
     ]
    }
   ],
   "source": [
    "#Example song \n",
    "mySong = trimSongs['song'].iloc[100]\n",
    "print(f'The song name for this song: {mySong}')\n",
    "print('The 5 recommended songs for this song are: ')\n",
    "testSong = similarities[mySong]\n",
    "for i in range(5):\n",
    "    thisSong = testSong[i] \n",
    "    print(f\"{i+1}: \")\n",
    "    print(f\"Similarity score: {thisSong[0]}, song name: {thisSong[1]}, song artist: {thisSong[2]}\")\n",
    "    print(\"-------------------------------------\")\n",
    "\n",
    "\n"
   ]
  },
  {
   "cell_type": "markdown",
   "metadata": {},
   "source": [
    "Like this, we can find similar songs based on the lyric content sepcifically being similar using cosine similarity."
   ]
  }
 ],
 "metadata": {
  "kernelspec": {
   "display_name": "myenv",
   "language": "python",
   "name": "python3"
  },
  "language_info": {
   "codemirror_mode": {
    "name": "ipython",
    "version": 3
   },
   "file_extension": ".py",
   "mimetype": "text/x-python",
   "name": "python",
   "nbconvert_exporter": "python",
   "pygments_lexer": "ipython3",
   "version": "3.10.13"
  }
 },
 "nbformat": 4,
 "nbformat_minor": 2
}
